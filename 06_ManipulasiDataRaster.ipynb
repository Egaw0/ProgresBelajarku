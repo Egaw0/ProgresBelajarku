{
  "nbformat": 4,
  "nbformat_minor": 0,
  "metadata": {
    "colab": {
      "provenance": [],
      "include_colab_link": true
    },
    "kernelspec": {
      "name": "python3",
      "display_name": "Python 3"
    },
    "language_info": {
      "name": "python"
    }
  },
  "cells": [
    {
      "cell_type": "markdown",
      "metadata": {
        "id": "view-in-github",
        "colab_type": "text"
      },
      "source": [
        "<a href=\"https://colab.research.google.com/github/Egaw0/ProgresBelajarku/blob/main/06_ManipulasiDataRaster.ipynb\" target=\"_parent\"><img src=\"https://colab.research.google.com/assets/colab-badge.svg\" alt=\"Open In Colab\"/></a>"
      ]
    },
    {
      "cell_type": "markdown",
      "source": [
        "# Library"
      ],
      "metadata": {
        "id": "rRTGEcaPw_Zs"
      }
    },
    {
      "cell_type": "code",
      "source": [
        "pip install geopandas"
      ],
      "metadata": {
        "id": "GrHVrTqIRL7r",
        "colab": {
          "base_uri": "https://localhost:8080/"
        },
        "outputId": "5b92c0df-67f8-4c18-999f-694b20d2b3ab"
      },
      "execution_count": null,
      "outputs": [
        {
          "output_type": "stream",
          "name": "stdout",
          "text": [
            "Requirement already satisfied: geopandas in /usr/local/lib/python3.10/dist-packages (0.13.2)\n",
            "Requirement already satisfied: fiona>=1.8.19 in /usr/local/lib/python3.10/dist-packages (from geopandas) (1.9.6)\n",
            "Requirement already satisfied: packaging in /usr/local/lib/python3.10/dist-packages (from geopandas) (24.0)\n",
            "Requirement already satisfied: pandas>=1.1.0 in /usr/local/lib/python3.10/dist-packages (from geopandas) (2.0.3)\n",
            "Requirement already satisfied: pyproj>=3.0.1 in /usr/local/lib/python3.10/dist-packages (from geopandas) (3.6.1)\n",
            "Requirement already satisfied: shapely>=1.7.1 in /usr/local/lib/python3.10/dist-packages (from geopandas) (2.0.3)\n",
            "Requirement already satisfied: attrs>=19.2.0 in /usr/local/lib/python3.10/dist-packages (from fiona>=1.8.19->geopandas) (23.2.0)\n",
            "Requirement already satisfied: certifi in /usr/local/lib/python3.10/dist-packages (from fiona>=1.8.19->geopandas) (2024.2.2)\n",
            "Requirement already satisfied: click~=8.0 in /usr/local/lib/python3.10/dist-packages (from fiona>=1.8.19->geopandas) (8.1.7)\n",
            "Requirement already satisfied: click-plugins>=1.0 in /usr/local/lib/python3.10/dist-packages (from fiona>=1.8.19->geopandas) (1.1.1)\n",
            "Requirement already satisfied: cligj>=0.5 in /usr/local/lib/python3.10/dist-packages (from fiona>=1.8.19->geopandas) (0.7.2)\n",
            "Requirement already satisfied: six in /usr/local/lib/python3.10/dist-packages (from fiona>=1.8.19->geopandas) (1.16.0)\n",
            "Requirement already satisfied: python-dateutil>=2.8.2 in /usr/local/lib/python3.10/dist-packages (from pandas>=1.1.0->geopandas) (2.8.2)\n",
            "Requirement already satisfied: pytz>=2020.1 in /usr/local/lib/python3.10/dist-packages (from pandas>=1.1.0->geopandas) (2023.4)\n",
            "Requirement already satisfied: tzdata>=2022.1 in /usr/local/lib/python3.10/dist-packages (from pandas>=1.1.0->geopandas) (2024.1)\n",
            "Requirement already satisfied: numpy>=1.21.0 in /usr/local/lib/python3.10/dist-packages (from pandas>=1.1.0->geopandas) (1.25.2)\n"
          ]
        }
      ]
    },
    {
      "cell_type": "code",
      "source": [
        "pip install pyproj"
      ],
      "metadata": {
        "id": "nZF-G3pYPaIq",
        "colab": {
          "base_uri": "https://localhost:8080/"
        },
        "outputId": "762347fc-0637-4032-83e7-1b4d8b0c83ae"
      },
      "execution_count": null,
      "outputs": [
        {
          "output_type": "stream",
          "name": "stdout",
          "text": [
            "Requirement already satisfied: pyproj in /usr/local/lib/python3.10/dist-packages (3.6.1)\n",
            "Requirement already satisfied: certifi in /usr/local/lib/python3.10/dist-packages (from pyproj) (2024.2.2)\n"
          ]
        }
      ]
    },
    {
      "cell_type": "code",
      "source": [
        "pip install rasterio"
      ],
      "metadata": {
        "id": "56EznsTZpYAM"
      },
      "execution_count": null,
      "outputs": []
    },
    {
      "cell_type": "code",
      "source": [
        "pip install earthpy"
      ],
      "metadata": {
        "id": "MgCQf_JOtlVy"
      },
      "execution_count": null,
      "outputs": []
    },
    {
      "cell_type": "code",
      "source": [
        "pip install rioxarray"
      ],
      "metadata": {
        "id": "slyx-h0n8T9t",
        "colab": {
          "base_uri": "https://localhost:8080/"
        },
        "outputId": "0d2d5aaa-a7c9-4fec-fb6b-57069fdbe5b2"
      },
      "execution_count": null,
      "outputs": [
        {
          "output_type": "stream",
          "name": "stdout",
          "text": [
            "Installing collected packages: rioxarray\n",
            "Successfully installed rioxarray-0.15.3\n"
          ]
        }
      ]
    },
    {
      "cell_type": "code",
      "source": [
        "import geopandas as gpd\n",
        "from shapely.geometry import Point\n",
        "from geopandas import GeoSeries, GeoDataFrame"
      ],
      "metadata": {
        "id": "xiIOSgI250Md"
      },
      "execution_count": null,
      "outputs": []
    },
    {
      "cell_type": "code",
      "source": [
        "import rasterio as rio\n",
        "import rasterio.plot as rioplot\n",
        "import rioxarray as rxr\n",
        "import pyproj\n",
        "from rasterio.warp import calculate_default_transform, reproject, Resampling\n",
        "from rasterio.mask import mask"
      ],
      "metadata": {
        "id": "Ee5iLTWu0TrA"
      },
      "execution_count": null,
      "outputs": []
    },
    {
      "cell_type": "code",
      "source": [
        "import earthpy.spatial as es\n",
        "import earthpy.plot as ep\n",
        "import earthpy as et"
      ],
      "metadata": {
        "id": "itQ1ADY4tmFo"
      },
      "execution_count": null,
      "outputs": []
    },
    {
      "cell_type": "code",
      "source": [
        "import os\n",
        "import numpy as np\n",
        "import matplotlib\n",
        "import matplotlib.pyplot as plt"
      ],
      "metadata": {
        "id": "ScmCMFIY6RVm"
      },
      "execution_count": null,
      "outputs": []
    },
    {
      "cell_type": "markdown",
      "source": [
        "# Directory setting"
      ],
      "metadata": {
        "id": "t3lgeKkHt6Bt"
      }
    },
    {
      "cell_type": "code",
      "source": [
        "from google.colab import drive\n",
        "drive.mount('/content/drive')"
      ],
      "metadata": {
        "id": "DYdHRN7PtyWC"
      },
      "execution_count": null,
      "outputs": []
    },
    {
      "cell_type": "code",
      "source": [
        "os.chdir(\"drive/MyDrive/04_Lecture/2023-2024 Genap/01_Geokomputasi\")"
      ],
      "metadata": {
        "id": "CGax-Lc6uG0z"
      },
      "execution_count": null,
      "outputs": []
    },
    {
      "cell_type": "code",
      "source": [
        "os.getcwd()"
      ],
      "metadata": {
        "id": "1fBkMbe_uTEG",
        "colab": {
          "base_uri": "https://localhost:8080/",
          "height": 36
        },
        "outputId": "0581138b-afe1-4d19-d485-da74080d5fe9"
      },
      "execution_count": null,
      "outputs": [
        {
          "output_type": "execute_result",
          "data": {
            "text/plain": [
              "'/content/drive/MyDrive/04_Lecture/2023-2024 Genap/01_Geokomputasi'"
            ],
            "application/vnd.google.colaboratory.intrinsic+json": {
              "type": "string"
            }
          },
          "metadata": {},
          "execution_count": 12
        }
      ]
    },
    {
      "cell_type": "markdown",
      "source": [
        "# Akses data landsat google cloud"
      ],
      "metadata": {
        "id": "2P3f5oJuxG3s"
      }
    },
    {
      "cell_type": "code",
      "source": [
        "fileB1 = 'https://storage.googleapis.com/gcp-public-data-landsat/LC08/01/101/062/LC08_L1TP_101062_20200521_20200527_01_T1/LC08_L1TP_101062_20200521_20200527_01_T1_B1.TIF'\n",
        "fileB2 = 'https://storage.googleapis.com/gcp-public-data-landsat/LC08/01/101/062/LC08_L1TP_101062_20200521_20200527_01_T1/LC08_L1TP_101062_20200521_20200527_01_T1_B2.TIF'\n",
        "fileB3 = 'https://storage.googleapis.com/gcp-public-data-landsat/LC08/01/101/062/LC08_L1TP_101062_20200521_20200527_01_T1/LC08_L1TP_101062_20200521_20200527_01_T1_B3.TIF'\n",
        "fileB4 = 'https://storage.googleapis.com/gcp-public-data-landsat/LC08/01/101/062/LC08_L1TP_101062_20200521_20200527_01_T1/LC08_L1TP_101062_20200521_20200527_01_T1_B4.TIF'\n",
        "fileB5 = 'https://storage.googleapis.com/gcp-public-data-landsat/LC08/01/101/062/LC08_L1TP_101062_20200521_20200527_01_T1/LC08_L1TP_101062_20200521_20200527_01_T1_B5.TIF'\n",
        "fileB6 = 'https://storage.googleapis.com/gcp-public-data-landsat/LC08/01/101/062/LC08_L1TP_101062_20200521_20200527_01_T1/LC08_L1TP_101062_20200521_20200527_01_T1_B6.TIF'\n",
        "fileB7 = 'https://storage.googleapis.com/gcp-public-data-landsat/LC08/01/101/062/LC08_L1TP_101062_20200521_20200527_01_T1/LC08_L1TP_101062_20200521_20200527_01_T1_B7.TIF'\n",
        "fileB8 = 'https://storage.googleapis.com/gcp-public-data-landsat/LC08/01/101/062/LC08_L1TP_101062_20200521_20200527_01_T1/LC08_L1TP_101062_20200521_20200527_01_T1_B8.TIF'\n",
        "fileB9 = 'https://storage.googleapis.com/gcp-public-data-landsat/LC08/01/101/062/LC08_L1TP_101062_20200521_20200527_01_T1/LC08_L1TP_101062_20200521_20200527_01_T1_B9.TIF'\n",
        "\n",
        "WV2 = \"03_Raster/Data/10JAN25024728-M2AS-052647590010_01_P001.TIF\""
      ],
      "metadata": {
        "id": "RyqfSKL0xL3l"
      },
      "execution_count": null,
      "outputs": []
    },
    {
      "cell_type": "code",
      "source": [
        "with rio.open(fileB1) as imgB1:\n",
        "  rsL8b1 = imgB1.read()\n",
        "  print('imgB1.profile: ', imgB1.profile)\n",
        "\n",
        "with rio.open(fileB2) as imgB2:\n",
        "  rsL8b2 = imgB2.read()\n",
        "  print('imgB2.profile: ', imgB2.profile)\n",
        "\n",
        "with rio.open(fileB3) as imgB3:\n",
        "  rsL8b3 = imgB3.read()\n",
        "  print('imgB2.profile: ', imgB3.profile)\n",
        "\n",
        "with rio.open(fileB4) as imgB4:\n",
        "  rsL8b4 = imgB4.read()\n",
        "  print('imgB2.profile: ', imgB4.profile)\n",
        "\n",
        "with rio.open(fileB5) as imgB5:\n",
        "  rsL8b5 = imgB5.read()\n",
        "  print('imgB2.profile: ', imgB5.profile)"
      ],
      "metadata": {
        "id": "32vwAPeJx79I"
      },
      "execution_count": null,
      "outputs": []
    },
    {
      "cell_type": "markdown",
      "source": [
        "Alternatif code untuk simplifikasi:\n",
        "\n",
        "\n",
        "1.   membuat list file landsat\n",
        "2.   membuat metadata dari 1 file yang akan digunakan untuk file stacking\n",
        "3.   membuka dan melakukan layer stacking kemudian menyimpan file dengan nama Landsat8.tif pada directory utama\n",
        "4.   memanggil ulang data tif\n",
        "\n"
      ],
      "metadata": {
        "id": "JNCvlx-w2Vio"
      }
    },
    {
      "cell_type": "code",
      "source": [
        "# 1. List data landsat\n",
        "fileL8 = [fileB1, fileB2, fileB3, fileB4, fileB5, fileB6, fileB7, fileB8, fileB9]"
      ],
      "metadata": {
        "id": "efz_eOqS1iFm"
      },
      "execution_count": null,
      "outputs": []
    },
    {
      "cell_type": "code",
      "source": [
        "# 2. Create Metadata\n",
        "r = rio.open(fileL8[0])\n",
        "meta = r.meta\n",
        "meta.update(count = len(fileL8))\n",
        "meta.update(driver = \"GTiff\")\n",
        "print(meta)"
      ],
      "metadata": {
        "id": "9VVHB77E17U4"
      },
      "execution_count": null,
      "outputs": []
    },
    {
      "cell_type": "code",
      "source": [
        "# 3. Membuka semua file kemudian menyimpannya sebagai file baru\n",
        "with rio.open(\"Papua_Landsat8.tif\", \"w\", **meta) as dst:\n",
        "    for id, layer in enumerate(fileL8, start = 1):\n",
        "        with rio.open(layer) as src:\n",
        "            dst.write(src.read(1), id)"
      ],
      "metadata": {
        "id": "40soymEP1u_3"
      },
      "execution_count": null,
      "outputs": []
    },
    {
      "cell_type": "code",
      "source": [
        "with rio.open(\"Papua_Landsat8.tif\") as imgL8:\n",
        "  rsL8 = imgL8.read()\n",
        "  print('imgL8.profile: ', imgL8.profile)"
      ],
      "metadata": {
        "id": "022xhlLv26U2"
      },
      "execution_count": null,
      "outputs": []
    },
    {
      "cell_type": "code",
      "source": [
        "ep.plot_bands(rsL8)"
      ],
      "metadata": {
        "id": "N4WanUsy3XUn"
      },
      "execution_count": null,
      "outputs": []
    },
    {
      "cell_type": "code",
      "source": [
        "ep.plot_rgb(rsL8,\n",
        "            rgb=[3, 2, 1],\n",
        "            title=\"RGB Composite Image Papua Landsat Data\")"
      ],
      "metadata": {
        "id": "exYJzK8JwUmf"
      },
      "execution_count": null,
      "outputs": []
    },
    {
      "cell_type": "code",
      "source": [
        "with rio.open(WV2) as imgWv2:\n",
        "  rsWv2 = imgWv2.read()\n",
        "  print(imgWv2.profile)"
      ],
      "metadata": {
        "id": "s1jwruRd3xhE",
        "colab": {
          "base_uri": "https://localhost:8080/"
        },
        "outputId": "bce2bcd5-d104-4246-ef72-359e7381e8be"
      },
      "execution_count": null,
      "outputs": [
        {
          "output_type": "stream",
          "name": "stdout",
          "text": [
            "{'driver': 'GTiff', 'dtype': 'uint16', 'nodata': None, 'width': 4461, 'height': 2711, 'count': 8, 'crs': CRS.from_epsg(32750), 'transform': Affine(2.0, 0.0, 391420.0,\n",
            "       0.0, -2.0, 9079256.0), 'blockysize': 117, 'tiled': False, 'interleave': 'band'}\n"
          ]
        }
      ]
    },
    {
      "cell_type": "markdown",
      "source": [
        "saat melakukan printah `print(image.profile)` maka informasi meta data dapat diketahui terutama sistem proyeksinya. Selalu pahami sistem proyeksi dari data raster yang digunakan. Kesalahan paling umum dari pengolahan data raster berbasis code adalah menggunakan data raster dengan sistem koordinat yang berbeda."
      ],
      "metadata": {
        "id": "6S8vPADbZdLN"
      }
    },
    {
      "cell_type": "code",
      "source": [
        "ep.plot_bands(rsWv2)"
      ],
      "metadata": {
        "id": "Nyf3UBY63y3Z"
      },
      "execution_count": null,
      "outputs": []
    },
    {
      "cell_type": "markdown",
      "source": [
        "# Raster Data Manipulation\n",
        "\n",
        "Terkait pengolahan data raster, penggunaan  library `rioarray` menurut saya lebih mempermudah karena file raster yang dibaca dengan library `rioarray` dapat memuat kedua informasi pixel dan metadatanya."
      ],
      "metadata": {
        "id": "SQ4ar6a95EYu"
      }
    },
    {
      "cell_type": "markdown",
      "source": [
        "## Projection"
      ],
      "metadata": {
        "id": "Tcfrp_yF__z9"
      }
    },
    {
      "cell_type": "code",
      "source": [
        "dst_crs = 'EPSG:32750'"
      ],
      "metadata": {
        "id": "6xe0ZWHx6Ria"
      },
      "execution_count": null,
      "outputs": []
    },
    {
      "cell_type": "code",
      "source": [
        "rsWV2 = rxr.open_rasterio(WV2, masked=True).squeeze()\n",
        "rsL8  = rxr.open_rasterio(\"Papua_Landsat8.tif\", masked=True).squeeze()"
      ],
      "metadata": {
        "id": "CXTS7Uqb8lxI"
      },
      "execution_count": null,
      "outputs": []
    },
    {
      "cell_type": "code",
      "source": [
        "rsL8 = rsL8.rio.reproject(dst_crs)\n",
        "rsL8.rio.crs"
      ],
      "metadata": {
        "id": "L75Xxn5c7GEW",
        "colab": {
          "base_uri": "https://localhost:8080/"
        },
        "outputId": "92475407-7323-4692-d38c-82bc12533cf5"
      },
      "execution_count": null,
      "outputs": [
        {
          "output_type": "execute_result",
          "data": {
            "text/plain": [
              "CRS.from_epsg(32750)"
            ]
          },
          "metadata": {},
          "execution_count": 34
        }
      ]
    },
    {
      "cell_type": "markdown",
      "source": [
        "## Croping or Cliping\n",
        "Proses croping dilakukan menggunakan informasi extend dari data citra worldview-2"
      ],
      "metadata": {
        "id": "OqcXE8H3AEC7"
      }
    },
    {
      "cell_type": "code",
      "source": [
        "boxs = rsWV2.rio.bounds()\n",
        "print(boxs)"
      ],
      "metadata": {
        "id": "4AjTt8175JSp",
        "colab": {
          "base_uri": "https://localhost:8080/"
        },
        "outputId": "01385ff4-6e47-4661-8ebe-2cc357685872"
      },
      "execution_count": null,
      "outputs": [
        {
          "output_type": "stream",
          "name": "stdout",
          "text": [
            "(391420.0, 9073834.0, 400342.0, 9079256.0)\n"
          ]
        }
      ]
    },
    {
      "cell_type": "code",
      "source": [
        "rsWV2c = rsWV2.rio.clip_box(\n",
        "    minx=391420.0,\n",
        "    miny=9074834.0,\n",
        "    maxx=398342.0,\n",
        "    maxy=9075256.0,\n",
        ")"
      ],
      "metadata": {
        "id": "gDipfUjb-mI8"
      },
      "execution_count": null,
      "outputs": []
    },
    {
      "cell_type": "code",
      "source": [
        "#rsWV2c = rsWV2.rio.clip_box(minx=boxs[0], miny=boxs[1], maxx=boxs[2], maxy=boxs[3],)"
      ],
      "metadata": {
        "id": "VZUNA3NFKxhv"
      },
      "execution_count": null,
      "outputs": []
    },
    {
      "cell_type": "code",
      "source": [
        "print(rsWV2c)"
      ],
      "metadata": {
        "id": "UGWIfwhsKzZa"
      },
      "execution_count": null,
      "outputs": []
    },
    {
      "cell_type": "code",
      "source": [
        "ep.plot_bands(rsWV2c)"
      ],
      "metadata": {
        "colab": {
          "base_uri": "https://localhost:8080/",
          "height": 1000
        },
        "id": "4rii5WJ-3wGd",
        "outputId": "5610af8e-1319-4b2a-f391-7851db16f8a8"
      },
      "execution_count": null,
      "outputs": [
        {
          "output_type": "display_data",
          "data": {
            "text/plain": [
              "<Figure size 1200x1200 with 17 Axes>"
            ],
            "image/png": "[encoded data removed]"
          },
          "metadata": {}
        },
        {
          "output_type": "execute_result",
          "data": {
            "text/plain": [
              "array([[<Axes: title={'center': 'Band 1'}>,\n",
              "        <Axes: title={'center': 'Band 2'}>,\n",
              "        <Axes: title={'center': 'Band 3'}>],\n",
              "       [<Axes: title={'center': 'Band 4'}>,\n",
              "        <Axes: title={'center': 'Band 5'}>,\n",
              "        <Axes: title={'center': 'Band 6'}>],\n",
              "       [<Axes: title={'center': 'Band 7'}>,\n",
              "        <Axes: title={'center': 'Band 8'}>, <Axes: >]], dtype=object)"
            ]
          },
          "metadata": {},
          "execution_count": 53
        }
      ]
    },
    {
      "cell_type": "markdown",
      "source": [
        "## Masking"
      ],
      "metadata": {
        "id": "SkwtG15EC0Ib"
      }
    },
    {
      "cell_type": "code",
      "source": [
        "# Buka file raster pulau gili\n",
        "vctpulau = gpd.read_file(\"03_Raster/Data/Jayapura.shp\")\n",
        "print(\"CRS: \", vctpulau.crs)"
      ],
      "metadata": {
        "id": "vu2aDk1QTLn2"
      },
      "execution_count": null,
      "outputs": []
    },
    {
      "cell_type": "markdown",
      "source": [
        "Sistem proyeksi data vektor berbeda dengan data raster. Sehinga reprojection perlu dilakukan."
      ],
      "metadata": {
        "id": "0ytqESXPZRs_"
      }
    },
    {
      "cell_type": "code",
      "source": [
        "vctpulau = vctpulau.to_crs(dst_crs)\n",
        "print(\"CRS: \", vctpulau.crs)\n",
        "vctpulau.plot()"
      ],
      "metadata": {
        "id": "tBlPUELvYSzb"
      },
      "execution_count": null,
      "outputs": []
    },
    {
      "cell_type": "code",
      "source": [
        "rsL8cm = rsL8c.rio.clip(vctpulau, crs=32750)"
      ],
      "metadata": {
        "id": "N5PzZzyTaTLA"
      },
      "execution_count": null,
      "outputs": []
    },
    {
      "cell_type": "markdown",
      "source": [
        "## Visualisasi"
      ],
      "metadata": {
        "id": "dAVzcv5ZBcBb"
      }
    },
    {
      "cell_type": "code",
      "source": [
        "ep.plot_bands(rsL8c)"
      ],
      "metadata": {
        "id": "ts1D-u8m-3y-"
      },
      "execution_count": null,
      "outputs": []
    },
    {
      "cell_type": "code",
      "source": [
        "ep.plot_rgb(rsL8.values,\n",
        "            rgb=[3, 2, 1],\n",
        "            title=\"RGB Composite Image\\n Papua Landsat Data\")"
      ],
      "metadata": {
        "id": "IPwVYJZ0_RaA"
      },
      "execution_count": null,
      "outputs": []
    },
    {
      "cell_type": "code",
      "source": [
        "ep.plot_rgb(rsWV2.values,\n",
        "            rgb=[4, 3, 2],\n",
        "            title=\"RGB Composite Image\\n Gili Mantra WorldView2 Data\")"
      ],
      "metadata": {
        "id": "M722pmC0_bez"
      },
      "execution_count": null,
      "outputs": []
    },
    {
      "cell_type": "code",
      "source": [
        "ep.plot_rgb(rsWV2.values,\n",
        "            rgb=[4, 3, 2],\n",
        "            title=\"RGB Composite Image\\n Gili Mantra WorldView2 Data\",\n",
        "            stretch=True, str_clip=1)"
      ],
      "metadata": {
        "id": "sBzoARMO_yXE"
      },
      "execution_count": null,
      "outputs": []
    }
  ]
}