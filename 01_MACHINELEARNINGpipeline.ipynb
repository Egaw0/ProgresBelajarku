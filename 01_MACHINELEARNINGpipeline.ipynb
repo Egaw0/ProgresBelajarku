{
  "nbformat": 4,
  "nbformat_minor": 0,
  "metadata": {
    "colab": {
      "provenance": [],
      "include_colab_link": true
    },
    "kernelspec": {
      "name": "python3",
      "display_name": "Python 3"
    },
    "language_info": {
      "name": "python"
    }
  },
  "cells": [
    {
      "cell_type": "markdown",
      "metadata": {
        "id": "view-in-github",
        "colab_type": "text"
      },
      "source": [
        "<a href=\"https://colab.research.google.com/github/Egaw0/ProgresBelajarku/blob/main/01_MACHINELEARNINGpipeline.ipynb\" target=\"_parent\"><img src=\"https://colab.research.google.com/assets/colab-badge.svg\" alt=\"Open In Colab\"/></a>"
      ]
    },
    {
      "cell_type": "markdown",
      "source": [
        "# **Aspek 1:** Introduction to Machine Learning Pipeline\n",
        "Pada tahap ini, kita mendefinisikan dan menyusun komponen-komponen dari sebuah machine learning pipeline menggunakan package [scikit-learn](https://scikit-learn.org/stable/index.html). Komponen-komponen ini dapat mencakup preprocessor, transformer, estimator, dan lainnya."
      ],
      "metadata": {
        "id": "Mk2BNh6wHqHA"
      }
    },
    {
      "cell_type": "code",
      "execution_count": 1,
      "metadata": {
        "id": "so_DxBklHP4S"
      },
      "outputs": [],
      "source": [
        "# Aspek 1: Introduction to Machine Learning Pipeline\n",
        "# Definisi dan komponen dari sebuah machine learning pipeline\n",
        "from sklearn.pipeline import Pipeline\n",
        "from sklearn.impute import SimpleImputer\n",
        "from sklearn.preprocessing import StandardScaler\n",
        "from sklearn.feature_selection import SelectFromModel\n",
        "from sklearn.ensemble import RandomForestClassifier\n",
        "from sklearn.svm import SVC"
      ]
    },
    {
      "cell_type": "markdown",
      "source": [
        "# Aspek 2: Data Preprocessing\n",
        "1. Handling missing data: menggunakan `SimpleImputer` dari scikit-learn untuk menangani data yang hilang dengan mengisi nilai rata-rata dari setiap fitur yang hilang.\n",
        "\n",
        "2. Data cleaning and transformation: tidak melakukan langkah khusus pembersihan data dalam contoh ini karena dataset iris sudah bersih.\n",
        "\n",
        "3. Feature engineering techniques: Dalam contoh ini, tidak melakukan teknik feature engineering khusus, tetapi ini dapat mencakup pembuatan fitur baru atau transformasi fitur yang ada.\n",
        "\n",
        "4. Data normalization and standardization: menggunakan `StandardScaler` dari scikit-learn untuk melakukan normalisasi dan standarisasi data agar memiliki mean 0 dan standar deviasi 1."
      ],
      "metadata": {
        "id": "oBN6M236H4Gd"
      }
    },
    {
      "cell_type": "code",
      "source": [
        "# Aspek 2: Data Preprocessing\n",
        "# Handling missing data\n",
        "# Data cleaning and transformation\n",
        "# Feature engineering techniques\n",
        "# Data normalization and standardization\n",
        "from sklearn.datasets import load_iris\n",
        "from sklearn.model_selection import train_test_split\n",
        "\n",
        "# Load iris dataset\n",
        "iris = load_iris()\n",
        "X, y = iris.data, iris.target\n",
        "\n",
        "# Split data into training and testing sets\n",
        "X_train, X_test, y_train, y_test = train_test_split(X, y, test_size=0.2, random_state=42)\n",
        "\n",
        "# Pipeline components\n",
        "imputer = SimpleImputer(strategy='mean')\n",
        "scaler = StandardScaler()\n",
        "\n",
        "# Define pipeline\n",
        "preprocessing_pipeline = Pipeline([\n",
        "    ('imputer', imputer),\n",
        "    ('scaler', scaler)\n",
        "])\n",
        "\n",
        "# Fit and transform training data\n",
        "X_train_preprocessed = preprocessing_pipeline.fit_transform(X_train)\n"
      ],
      "metadata": {
        "id": "sYs5OS7AHUM9"
      },
      "execution_count": 2,
      "outputs": []
    },
    {
      "cell_type": "markdown",
      "source": [
        "# Aspek 3: Model Selection and Training\n",
        "\n",
        "\n",
        "\n",
        "1.   Overview of different machine learning algorithms: menggunakan `KNeighborsClassifier` sebagai model pembelajaran mesin untuk contoh ini, tetapi pipeline ini dapat dengan mudah diganti dengan model lain seperti RandomForestClassifier, SVC, dll.\n",
        "2. Cross-validation techniques for model evaluation: menggunakan `GridSearchCV` dari scikit-learn untuk melakukan pencarian grid hyperparameter dengan validasi silang 5-fold.\n",
        "3. Hyperparameter tuning: menentukan grid hyperparameter yang berbeda untuk KNeighborsClassifier dan mencari kombinasi terbaik dari hyperparameter menggunakan `GridSearchCV`."
      ],
      "metadata": {
        "id": "AanYzPcjH94H"
      }
    },
    {
      "cell_type": "code",
      "source": [
        "# Aspek 3: Model Selection and Training\n",
        "# Overview of different machine learning algorithms\n",
        "# Cross-validation techniques for model evaluation\n",
        "# Hyperparameter tuning\n",
        "from sklearn.model_selection import GridSearchCV\n",
        "from sklearn.neighbors import KNeighborsClassifier\n",
        "\n",
        "# Pipeline with model selection\n",
        "model_pipeline = Pipeline([\n",
        "    ('preprocessing', preprocessing_pipeline),\n",
        "    ('classifier', KNeighborsClassifier())\n",
        "])\n",
        "\n",
        "# Hyperparameter grid for KNeighborsClassifier\n",
        "param_grid = {\n",
        "    'classifier__n_neighbors': [3, 5, 7],\n",
        "    'classifier__weights': ['uniform', 'distance']\n",
        "}\n",
        "\n",
        "# Grid search with cross-validation\n",
        "grid_search = GridSearchCV(model_pipeline, param_grid, cv=5)\n",
        "grid_search.fit(X_train, y_train)\n",
        "\n"
      ],
      "metadata": {
        "id": "5-4yUTkKHWyY",
        "outputId": "543985b3-4c0a-4675-c1ff-8c79ed7a5d38",
        "colab": {
          "base_uri": "https://localhost:8080/",
          "height": 212
        }
      },
      "execution_count": 3,
      "outputs": [
        {
          "output_type": "execute_result",
          "data": {
            "text/plain": [
              "GridSearchCV(cv=5,\n",
              "             estimator=Pipeline(steps=[('preprocessing',\n",
              "                                        Pipeline(steps=[('imputer',\n",
              "                                                         SimpleImputer()),\n",
              "                                                        ('scaler',\n",
              "                                                         StandardScaler())])),\n",
              "                                       ('classifier', KNeighborsClassifier())]),\n",
              "             param_grid={'classifier__n_neighbors': [3, 5, 7],\n",
              "                         'classifier__weights': ['uniform', 'distance']})"
            ],
            "text/html": [
              "<style>#sk-container-id-1 {color: black;background-color: white;}#sk-container-id-1 pre{padding: 0;}#sk-container-id-1 div.sk-toggleable {background-color: white;}#sk-container-id-1 label.sk-toggleable__label {cursor: pointer;display: block;width: 100%;margin-bottom: 0;padding: 0.3em;box-sizing: border-box;text-align: center;}#sk-container-id-1 label.sk-toggleable__label-arrow:before {content: \"▸\";float: left;margin-right: 0.25em;color: #696969;}#sk-container-id-1 label.sk-toggleable__label-arrow:hover:before {color: black;}#sk-container-id-1 div.sk-estimator:hover label.sk-toggleable__label-arrow:before {color: black;}#sk-container-id-1 div.sk-toggleable__content {max-height: 0;max-width: 0;overflow: hidden;text-align: left;background-color: #f0f8ff;}#sk-container-id-1 div.sk-toggleable__content pre {margin: 0.2em;color: black;border-radius: 0.25em;background-color: #f0f8ff;}#sk-container-id-1 input.sk-toggleable__control:checked~div.sk-toggleable__content {max-height: 200px;max-width: 100%;overflow: auto;}#sk-container-id-1 input.sk-toggleable__control:checked~label.sk-toggleable__label-arrow:before {content: \"▾\";}#sk-container-id-1 div.sk-estimator input.sk-toggleable__control:checked~label.sk-toggleable__label {background-color: #d4ebff;}#sk-container-id-1 div.sk-label input.sk-toggleable__control:checked~label.sk-toggleable__label {background-color: #d4ebff;}#sk-container-id-1 input.sk-hidden--visually {border: 0;clip: rect(1px 1px 1px 1px);clip: rect(1px, 1px, 1px, 1px);height: 1px;margin: -1px;overflow: hidden;padding: 0;position: absolute;width: 1px;}#sk-container-id-1 div.sk-estimator {font-family: monospace;background-color: #f0f8ff;border: 1px dotted black;border-radius: 0.25em;box-sizing: border-box;margin-bottom: 0.5em;}#sk-container-id-1 div.sk-estimator:hover {background-color: #d4ebff;}#sk-container-id-1 div.sk-parallel-item::after {content: \"\";width: 100%;border-bottom: 1px solid gray;flex-grow: 1;}#sk-container-id-1 div.sk-label:hover label.sk-toggleable__label {background-color: #d4ebff;}#sk-container-id-1 div.sk-serial::before {content: \"\";position: absolute;border-left: 1px solid gray;box-sizing: border-box;top: 0;bottom: 0;left: 50%;z-index: 0;}#sk-container-id-1 div.sk-serial {display: flex;flex-direction: column;align-items: center;background-color: white;padding-right: 0.2em;padding-left: 0.2em;position: relative;}#sk-container-id-1 div.sk-item {position: relative;z-index: 1;}#sk-container-id-1 div.sk-parallel {display: flex;align-items: stretch;justify-content: center;background-color: white;position: relative;}#sk-container-id-1 div.sk-item::before, #sk-container-id-1 div.sk-parallel-item::before {content: \"\";position: absolute;border-left: 1px solid gray;box-sizing: border-box;top: 0;bottom: 0;left: 50%;z-index: -1;}#sk-container-id-1 div.sk-parallel-item {display: flex;flex-direction: column;z-index: 1;position: relative;background-color: white;}#sk-container-id-1 div.sk-parallel-item:first-child::after {align-self: flex-end;width: 50%;}#sk-container-id-1 div.sk-parallel-item:last-child::after {align-self: flex-start;width: 50%;}#sk-container-id-1 div.sk-parallel-item:only-child::after {width: 0;}#sk-container-id-1 div.sk-dashed-wrapped {border: 1px dashed gray;margin: 0 0.4em 0.5em 0.4em;box-sizing: border-box;padding-bottom: 0.4em;background-color: white;}#sk-container-id-1 div.sk-label label {font-family: monospace;font-weight: bold;display: inline-block;line-height: 1.2em;}#sk-container-id-1 div.sk-label-container {text-align: center;}#sk-container-id-1 div.sk-container {/* jupyter's `normalize.less` sets `[hidden] { display: none; }` but bootstrap.min.css set `[hidden] { display: none !important; }` so we also need the `!important` here to be able to override the default hidden behavior on the sphinx rendered scikit-learn.org. See: https://github.com/scikit-learn/scikit-learn/issues/21755 */display: inline-block !important;position: relative;}#sk-container-id-1 div.sk-text-repr-fallback {display: none;}</style><div id=\"sk-container-id-1\" class=\"sk-top-container\"><div class=\"sk-text-repr-fallback\"><pre>GridSearchCV(cv=5,\n",
              "             estimator=Pipeline(steps=[(&#x27;preprocessing&#x27;,\n",
              "                                        Pipeline(steps=[(&#x27;imputer&#x27;,\n",
              "                                                         SimpleImputer()),\n",
              "                                                        (&#x27;scaler&#x27;,\n",
              "                                                         StandardScaler())])),\n",
              "                                       (&#x27;classifier&#x27;, KNeighborsClassifier())]),\n",
              "             param_grid={&#x27;classifier__n_neighbors&#x27;: [3, 5, 7],\n",
              "                         &#x27;classifier__weights&#x27;: [&#x27;uniform&#x27;, &#x27;distance&#x27;]})</pre><b>In a Jupyter environment, please rerun this cell to show the HTML representation or trust the notebook. <br />On GitHub, the HTML representation is unable to render, please try loading this page with nbviewer.org.</b></div><div class=\"sk-container\" hidden><div class=\"sk-item sk-dashed-wrapped\"><div class=\"sk-label-container\"><div class=\"sk-label sk-toggleable\"><input class=\"sk-toggleable__control sk-hidden--visually\" id=\"sk-estimator-id-1\" type=\"checkbox\" ><label for=\"sk-estimator-id-1\" class=\"sk-toggleable__label sk-toggleable__label-arrow\">GridSearchCV</label><div class=\"sk-toggleable__content\"><pre>GridSearchCV(cv=5,\n",
              "             estimator=Pipeline(steps=[(&#x27;preprocessing&#x27;,\n",
              "                                        Pipeline(steps=[(&#x27;imputer&#x27;,\n",
              "                                                         SimpleImputer()),\n",
              "                                                        (&#x27;scaler&#x27;,\n",
              "                                                         StandardScaler())])),\n",
              "                                       (&#x27;classifier&#x27;, KNeighborsClassifier())]),\n",
              "             param_grid={&#x27;classifier__n_neighbors&#x27;: [3, 5, 7],\n",
              "                         &#x27;classifier__weights&#x27;: [&#x27;uniform&#x27;, &#x27;distance&#x27;]})</pre></div></div></div><div class=\"sk-parallel\"><div class=\"sk-parallel-item\"><div class=\"sk-item\"><div class=\"sk-label-container\"><div class=\"sk-label sk-toggleable\"><input class=\"sk-toggleable__control sk-hidden--visually\" id=\"sk-estimator-id-2\" type=\"checkbox\" ><label for=\"sk-estimator-id-2\" class=\"sk-toggleable__label sk-toggleable__label-arrow\">estimator: Pipeline</label><div class=\"sk-toggleable__content\"><pre>Pipeline(steps=[(&#x27;preprocessing&#x27;,\n",
              "                 Pipeline(steps=[(&#x27;imputer&#x27;, SimpleImputer()),\n",
              "                                 (&#x27;scaler&#x27;, StandardScaler())])),\n",
              "                (&#x27;classifier&#x27;, KNeighborsClassifier())])</pre></div></div></div><div class=\"sk-serial\"><div class=\"sk-item\"><div class=\"sk-serial\"><div class=\"sk-item\"><div class=\"sk-label-container\"><div class=\"sk-label sk-toggleable\"><input class=\"sk-toggleable__control sk-hidden--visually\" id=\"sk-estimator-id-3\" type=\"checkbox\" ><label for=\"sk-estimator-id-3\" class=\"sk-toggleable__label sk-toggleable__label-arrow\">preprocessing: Pipeline</label><div class=\"sk-toggleable__content\"><pre>Pipeline(steps=[(&#x27;imputer&#x27;, SimpleImputer()), (&#x27;scaler&#x27;, StandardScaler())])</pre></div></div></div><div class=\"sk-serial\"><div class=\"sk-item\"><div class=\"sk-estimator sk-toggleable\"><input class=\"sk-toggleable__control sk-hidden--visually\" id=\"sk-estimator-id-4\" type=\"checkbox\" ><label for=\"sk-estimator-id-4\" class=\"sk-toggleable__label sk-toggleable__label-arrow\">SimpleImputer</label><div class=\"sk-toggleable__content\"><pre>SimpleImputer()</pre></div></div></div><div class=\"sk-item\"><div class=\"sk-estimator sk-toggleable\"><input class=\"sk-toggleable__control sk-hidden--visually\" id=\"sk-estimator-id-5\" type=\"checkbox\" ><label for=\"sk-estimator-id-5\" class=\"sk-toggleable__label sk-toggleable__label-arrow\">StandardScaler</label><div class=\"sk-toggleable__content\"><pre>StandardScaler()</pre></div></div></div></div></div><div class=\"sk-item\"><div class=\"sk-estimator sk-toggleable\"><input class=\"sk-toggleable__control sk-hidden--visually\" id=\"sk-estimator-id-6\" type=\"checkbox\" ><label for=\"sk-estimator-id-6\" class=\"sk-toggleable__label sk-toggleable__label-arrow\">KNeighborsClassifier</label><div class=\"sk-toggleable__content\"><pre>KNeighborsClassifier()</pre></div></div></div></div></div></div></div></div></div></div></div></div>"
            ]
          },
          "metadata": {},
          "execution_count": 3
        }
      ]
    },
    {
      "cell_type": "markdown",
      "source": [
        "# Aspek 4: Model Evaluation\n",
        "1. Evaluation metrics for regression and classification tasks: Kami menggunakan classification_report dari scikit-learn untuk mendapatkan laporan klasifikasi yang mencakup akurasi, presisi, recall, F1-score, dll.\n",
        "\n",
        "2. Bias-variance tradeoff: Pada tahap ini, kami tidak secara langsung mengukur bias dan varians model, tetapi kami dapat meninjaunya melalui hasil evaluasi model.\n",
        "\n",
        "3. Overfitting and underfitting: Kami dapat melihat tanda-tanda overfitting atau underfitting dari hasil evaluasi model, seperti perbedaan yang signifikan antara kinerja pada data pelatihan dan data pengujian. Dalam contoh ini, kami menggunakan teknik pencarian grid hyperparameter dengan validasi silang untuk mengurangi risiko overfitting."
      ],
      "metadata": {
        "id": "7DXsiy1zITZb"
      }
    },
    {
      "cell_type": "code",
      "source": [
        "# Aspek 4: Model Evaluation\n",
        "# Evaluation metrics for regression and classification tasks\n",
        "# Bias-variance tradeoff\n",
        "# Overfitting and underfitting\n",
        "from sklearn.metrics import classification_report\n",
        "\n",
        "# Predictions on test set\n",
        "y_pred = grid_search.predict(X_test)\n",
        "\n",
        "# Classification report\n",
        "print(classification_report(y_test, y_pred))\n",
        "\n",
        "# Best hyperparameters\n",
        "print(\"Best hyperparameters:\", grid_search.best_params_)"
      ],
      "metadata": {
        "id": "P3ndMhSbHYu1",
        "outputId": "5e5bae8b-711a-4937-a34c-468d6cbdafba",
        "colab": {
          "base_uri": "https://localhost:8080/"
        }
      },
      "execution_count": 4,
      "outputs": [
        {
          "output_type": "stream",
          "name": "stdout",
          "text": [
            "              precision    recall  f1-score   support\n",
            "\n",
            "           0       1.00      1.00      1.00        10\n",
            "           1       1.00      1.00      1.00         9\n",
            "           2       1.00      1.00      1.00        11\n",
            "\n",
            "    accuracy                           1.00        30\n",
            "   macro avg       1.00      1.00      1.00        30\n",
            "weighted avg       1.00      1.00      1.00        30\n",
            "\n",
            "Best hyperparameters: {'classifier__n_neighbors': 3, 'classifier__weights': 'uniform'}\n"
          ]
        }
      ]
    }
  ]
}