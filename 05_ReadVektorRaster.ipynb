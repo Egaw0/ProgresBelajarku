{
  "nbformat": 4,
  "nbformat_minor": 0,
  "metadata": {
    "colab": {
      "provenance": [],
      "include_colab_link": true
    },
    "kernelspec": {
      "name": "python3",
      "display_name": "Python 3"
    },
    "language_info": {
      "name": "python"
    }
  },
  "cells": [
    {
      "cell_type": "markdown",
      "metadata": {
        "id": "view-in-github",
        "colab_type": "text"
      },
      "source": [
        "<a href=\"https://colab.research.google.com/github/Egaw0/ProgresBelajarku/blob/main/05_ReadVektorRaster.ipynb\" target=\"_parent\"><img src=\"https://colab.research.google.com/assets/colab-badge.svg\" alt=\"Open In Colab\"/></a>"
      ]
    },
    {
      "cell_type": "markdown",
      "source": [
        "#Vektor data di python"
      ],
      "metadata": {
        "id": "ZLHbZeJQCJxl"
      }
    },
    {
      "cell_type": "markdown",
      "source": [
        "## Instalasi library\n",
        "\n",
        "Pada pembelajaran ini library yang digunakan adalah Geopandas dan shapely.\n",
        "Dalam instalasi library Geopandas sering terjadi error apabila hanya menggunakan `pip install geopandas` sehingga direkomendasikan menggunalan code instalasi yang langsung mengakses file di github."
      ],
      "metadata": {
        "id": "8aZFMyK6p-Pj"
      }
    },
    {
      "cell_type": "code",
      "source": [
        "pip install geopandas"
      ],
      "metadata": {
        "id": "OZ8tfEZhwdbs"
      },
      "execution_count": null,
      "outputs": []
    },
    {
      "cell_type": "code",
      "source": [
        "pip install Shapely"
      ],
      "metadata": {
        "id": "U6OYaGTYaEa-"
      },
      "execution_count": null,
      "outputs": []
    },
    {
      "cell_type": "code",
      "source": [
        "pip install pyproj"
      ],
      "metadata": {
        "id": "gkmAw4KQb5af"
      },
      "execution_count": null,
      "outputs": []
    },
    {
      "cell_type": "code",
      "source": [
        "#Library untuk data vektor\n",
        "import geopandas as gpd\n",
        "from shapely.geometry import Point\n",
        "from geopandas import GeoSeries, GeoDataFrame\n",
        "import pyproj"
      ],
      "metadata": {
        "id": "duBqBiUtB98O"
      },
      "execution_count": null,
      "outputs": []
    },
    {
      "cell_type": "code",
      "source": [
        "#Library dasar\n",
        "import os\n",
        "import time\n",
        "import numpy as np\n",
        "import pandas as pd\n",
        "import matplotlib.pyplot as plt"
      ],
      "metadata": {
        "id": "3puAYzwcCq8y"
      },
      "execution_count": null,
      "outputs": []
    },
    {
      "cell_type": "markdown",
      "source": [
        "## Setting Environment"
      ],
      "metadata": {
        "id": "b5dsWVrFCaG1"
      }
    },
    {
      "cell_type": "code",
      "source": [
        "from google.colab import drive\n",
        "drive.mount('/content/drive')"
      ],
      "metadata": {
        "id": "ylofiOf7Cgoq"
      },
      "execution_count": null,
      "outputs": []
    },
    {
      "cell_type": "code",
      "source": [
        "os.chdir(\"drive/MyDrive/04_Lecture/2023-2024 Genap/01_Geokomputasi\")"
      ],
      "metadata": {
        "id": "VnePD8k5C-Fq"
      },
      "execution_count": null,
      "outputs": []
    },
    {
      "cell_type": "code",
      "source": [
        "os.getcwd()"
      ],
      "metadata": {
        "id": "0ef-DtM-DEaL"
      },
      "execution_count": null,
      "outputs": []
    },
    {
      "cell_type": "markdown",
      "source": [
        "## Membuat data point"
      ],
      "metadata": {
        "id": "mPfufYS1DKbU"
      }
    },
    {
      "cell_type": "markdown",
      "source": [
        "### Geoseries"
      ],
      "metadata": {
        "id": "jGz8T2afG1xx"
      }
    },
    {
      "cell_type": "code",
      "source": [
        "gs = GeoSeries([Point(106.814, -6.388), Point(106.832, -6.42), Point(106.911, -6.42)])\n",
        "gs"
      ],
      "metadata": {
        "id": "IyH7N40XDRxS"
      },
      "execution_count": null,
      "outputs": []
    },
    {
      "cell_type": "code",
      "source": [
        "print(gs.crs)"
      ],
      "metadata": {
        "id": "5IBOQ5WkbEFa"
      },
      "execution_count": null,
      "outputs": []
    },
    {
      "cell_type": "code",
      "source": [
        "gs.crs ='epsg:4326'"
      ],
      "metadata": {
        "id": "jN3t_LERFK6K"
      },
      "execution_count": null,
      "outputs": []
    },
    {
      "cell_type": "code",
      "source": [
        "gs.plot()"
      ],
      "metadata": {
        "id": "EzTgaUIFFp0x"
      },
      "execution_count": null,
      "outputs": []
    },
    {
      "cell_type": "markdown",
      "source": [
        "### Geoseries dengan attribute"
      ],
      "metadata": {
        "id": "2-_bwFqFF1Dt"
      }
    },
    {
      "cell_type": "code",
      "source": [
        "data = {'name': ['a', 'b', 'c'],\n",
        "        'lat': [-6.388, -6.42, -6.42],\n",
        "        'lon': [106.814, 106.832, 106.91100]}"
      ],
      "metadata": {
        "id": "iYAUmWpOF7V0"
      },
      "execution_count": null,
      "outputs": []
    },
    {
      "cell_type": "code",
      "source": [
        "print(data)"
      ],
      "metadata": {
        "id": "hIkmtyAYcVwN"
      },
      "execution_count": null,
      "outputs": []
    },
    {
      "cell_type": "code",
      "source": [
        "geometry = gpd.points_from_xy(data['lon'], data['lat'])"
      ],
      "metadata": {
        "id": "xB0NqI8YGJCW"
      },
      "execution_count": null,
      "outputs": []
    },
    {
      "cell_type": "code",
      "source": [
        "type(geometry)"
      ],
      "metadata": {
        "id": "KC7cIpNqbnJu"
      },
      "execution_count": null,
      "outputs": []
    },
    {
      "cell_type": "code",
      "source": [
        "gs = GeoSeries(geometry, index=data['name'])\n",
        "gs"
      ],
      "metadata": {
        "id": "osOBEC15GNPD"
      },
      "execution_count": null,
      "outputs": []
    },
    {
      "cell_type": "code",
      "source": [
        "gs.crs = 'epsg:4326'"
      ],
      "metadata": {
        "id": "9-RO7G07GO49"
      },
      "execution_count": null,
      "outputs": []
    },
    {
      "cell_type": "code",
      "source": [
        "gs.plot()"
      ],
      "metadata": {
        "id": "wpIaPjV1GSXm"
      },
      "execution_count": null,
      "outputs": []
    },
    {
      "cell_type": "markdown",
      "source": [
        "### GeoDataFrame"
      ],
      "metadata": {
        "id": "Asup8gshGbRB"
      }
    },
    {
      "cell_type": "code",
      "source": [
        "df = pd.DataFrame(data)\n",
        "df"
      ],
      "metadata": {
        "id": "p-vfraEIGgjL"
      },
      "execution_count": null,
      "outputs": []
    },
    {
      "cell_type": "code",
      "source": [
        "gdf = GeoDataFrame(df, geometry=gpd.points_from_xy(df['lon'], df['lat']))"
      ],
      "metadata": {
        "id": "eyo9qkKMGh8j"
      },
      "execution_count": null,
      "outputs": []
    },
    {
      "cell_type": "code",
      "source": [
        "gdf.plot(marker='*', color='red', markersize=50, figsize=(6, 6));"
      ],
      "metadata": {
        "id": "VL5ktRNMGqW_"
      },
      "execution_count": null,
      "outputs": []
    },
    {
      "cell_type": "markdown",
      "source": [
        "## Membaca file vektor geospasial"
      ],
      "metadata": {
        "id": "6X-LFiBAHEvt"
      }
    },
    {
      "cell_type": "markdown",
      "source": [
        "### Shapefile"
      ],
      "metadata": {
        "id": "FUo8u3FxHMIR"
      }
    },
    {
      "cell_type": "code",
      "source": [
        "DsSukabumi = gpd.read_file(\"03_Raster/Data/ADMINISTRASIDESA_AR_25K.shp\")"
      ],
      "metadata": {
        "id": "N5gF7zllHw2C"
      },
      "execution_count": null,
      "outputs": []
    },
    {
      "cell_type": "code",
      "source": [
        "DsSukabumi.head()"
      ],
      "metadata": {
        "id": "96x2Paw2ILe7"
      },
      "execution_count": null,
      "outputs": []
    },
    {
      "cell_type": "code",
      "source": [
        "DsSukabumi.crs"
      ],
      "metadata": {
        "id": "f-iSo8r6IQPL"
      },
      "execution_count": null,
      "outputs": []
    },
    {
      "cell_type": "code",
      "source": [
        "DsSukabumi.plot(cmap='Set2')"
      ],
      "metadata": {
        "id": "Q8JBCK0MIYv0"
      },
      "execution_count": null,
      "outputs": []
    },
    {
      "cell_type": "code",
      "source": [
        "DsSukabumi[DsSukabumi['NAMOBJ'] == 'Babakan'].plot(cmap='Set2')"
      ],
      "metadata": {
        "id": "bmUv1wXuIq-u"
      },
      "execution_count": null,
      "outputs": []
    },
    {
      "cell_type": "markdown",
      "source": [
        "### OGC WFS GeoJSON"
      ],
      "metadata": {
        "id": "MxpLyFuzJFsg"
      }
    },
    {
      "cell_type": "code",
      "source": [
        "pip install geojson"
      ],
      "metadata": {
        "id": "_M2W_N2vK7hx"
      },
      "execution_count": null,
      "outputs": []
    },
    {
      "cell_type": "code",
      "source": [
        "import requests\n",
        "import geojson"
      ],
      "metadata": {
        "id": "JESp6tS_JUus"
      },
      "execution_count": null,
      "outputs": []
    },
    {
      "cell_type": "code",
      "source": [
        "wfs_url = \"http://data.nanoos.org/geoserver/ows\"\n",
        "params = dict(service='WFS', version='1.0.0', request='GetFeature',\n",
        "              typeName='oa:goaoninv', outputFormat='json')\n",
        "\n",
        "r = requests.get(wfs_url, params=params)\n",
        "wfs_geo = geojson.loads(r.content)"
      ],
      "metadata": {
        "id": "4fwHu5xRLAQ5"
      },
      "execution_count": null,
      "outputs": []
    },
    {
      "cell_type": "code",
      "source": [
        "print(type(wfs_geo))\n",
        "print(wfs_geo.keys())\n",
        "print(len(wfs_geo.__geo_interface__['features']))"
      ],
      "metadata": {
        "id": "lDZdcbdULJBV"
      },
      "execution_count": null,
      "outputs": []
    },
    {
      "cell_type": "code",
      "source": [
        "wfs_gdf = GeoDataFrame.from_features(wfs_geo)"
      ],
      "metadata": {
        "id": "6FYiJyBmO2Uw"
      },
      "execution_count": null,
      "outputs": []
    },
    {
      "cell_type": "code",
      "source": [
        "world = gpd.read_file(gpd.datasets.get_path('naturalearth_lowres'))\n"
      ],
      "metadata": {
        "id": "hxQvNuLcO_pq"
      },
      "execution_count": null,
      "outputs": []
    },
    {
      "cell_type": "code",
      "source": [
        "wfs_gdf.plot(ax=world.plot(cmap='Set2', figsize=(10, 6)),\n",
        "             marker='o', color='red', markersize=15);"
      ],
      "metadata": {
        "id": "8qFgIINzLKan"
      },
      "execution_count": null,
      "outputs": []
    },
    {
      "cell_type": "markdown",
      "source": [
        "# Raster data di python"
      ],
      "metadata": {
        "id": "vL73CNkQPIse"
      }
    },
    {
      "cell_type": "markdown",
      "source": [
        "## Instalasi Library\n",
        "\n",
        "Pada pembelajaran terkait data raster akan digunakan library turunan yakni rasterio."
      ],
      "metadata": {
        "id": "4yctHa45PXPP"
      }
    },
    {
      "cell_type": "code",
      "source": [
        "pip install pyproj"
      ],
      "metadata": {
        "id": "nZF-G3pYPaIq",
        "colab": {
          "base_uri": "https://localhost:8080/"
        },
        "outputId": "e93e94bd-34bf-4008-f8ac-8ca708a82e95"
      },
      "execution_count": null,
      "outputs": [
        {
          "output_type": "stream",
          "name": "stdout",
          "text": [
            "Requirement already satisfied: pyproj in /usr/local/lib/python3.10/dist-packages (3.6.1)\n",
            "Requirement already satisfied: certifi in /usr/local/lib/python3.10/dist-packages (from pyproj) (2024.2.2)\n"
          ]
        }
      ]
    },
    {
      "cell_type": "code",
      "source": [
        "pip install rasterio"
      ],
      "metadata": {
        "id": "56EznsTZpYAM",
        "colab": {
          "base_uri": "https://localhost:8080/"
        },
        "outputId": "48514c8e-2931-45f6-8485-95ce47a0ea94"
      },
      "execution_count": null,
      "outputs": [
        {
          "output_type": "stream",
          "name": "stdout",
          "text": [
            "Collecting rasterio\n",
            "  Downloading rasterio-1.3.9-cp310-cp310-manylinux2014_x86_64.whl (20.6 MB)\n",
            "\u001b[2K     \u001b[90m━━━━━━━━━━━━━━━━━━━━━━━━━━━━━━━━━━━━━━━━\u001b[0m \u001b[32m20.6/20.6 MB\u001b[0m \u001b[31m43.5 MB/s\u001b[0m eta \u001b[36m0:00:00\u001b[0m\n",
            "\u001b[?25hCollecting affine (from rasterio)\n",
            "  Downloading affine-2.4.0-py3-none-any.whl (15 kB)\n",
            "Requirement already satisfied: attrs in /usr/local/lib/python3.10/dist-packages (from rasterio) (23.2.0)\n",
            "Requirement already satisfied: certifi in /usr/local/lib/python3.10/dist-packages (from rasterio) (2024.2.2)\n",
            "Requirement already satisfied: click>=4.0 in /usr/local/lib/python3.10/dist-packages (from rasterio) (8.1.7)\n",
            "Requirement already satisfied: cligj>=0.5 in /usr/local/lib/python3.10/dist-packages (from rasterio) (0.7.2)\n",
            "Requirement already satisfied: numpy in /usr/local/lib/python3.10/dist-packages (from rasterio) (1.25.2)\n",
            "Collecting snuggs>=1.4.1 (from rasterio)\n",
            "  Downloading snuggs-1.4.7-py3-none-any.whl (5.4 kB)\n",
            "Requirement already satisfied: click-plugins in /usr/local/lib/python3.10/dist-packages (from rasterio) (1.1.1)\n",
            "Requirement already satisfied: setuptools in /usr/local/lib/python3.10/dist-packages (from rasterio) (67.7.2)\n",
            "Requirement already satisfied: pyparsing>=2.1.6 in /usr/local/lib/python3.10/dist-packages (from snuggs>=1.4.1->rasterio) (3.1.2)\n",
            "Installing collected packages: snuggs, affine, rasterio\n",
            "Successfully installed affine-2.4.0 rasterio-1.3.9 snuggs-1.4.7\n"
          ]
        }
      ]
    },
    {
      "cell_type": "code",
      "source": [
        "pip install earthpy"
      ],
      "metadata": {
        "id": "MgCQf_JOtlVy",
        "colab": {
          "base_uri": "https://localhost:8080/"
        },
        "outputId": "61f314a7-1fcd-4fe6-bb79-b2e948e10742"
      },
      "execution_count": null,
      "outputs": [
        {
          "output_type": "stream",
          "name": "stdout",
          "text": [
            "Collecting earthpy\n",
            "  Downloading earthpy-0.9.4-py3-none-any.whl (1.4 MB)\n",
            "\u001b[2K     \u001b[90m━━━━━━━━━━━━━━━━━━━━━━━━━━━━━━━━━━━━━━━━\u001b[0m \u001b[32m1.4/1.4 MB\u001b[0m \u001b[31m8.4 MB/s\u001b[0m eta \u001b[36m0:00:00\u001b[0m\n",
            "\u001b[?25hRequirement already satisfied: geopandas in /usr/local/lib/python3.10/dist-packages (from earthpy) (0.13.2)\n",
            "Requirement already satisfied: matplotlib>=2.0.0 in /usr/local/lib/python3.10/dist-packages (from earthpy) (3.7.1)\n",
            "Requirement already satisfied: numpy>=1.14.0 in /usr/local/lib/python3.10/dist-packages (from earthpy) (1.25.2)\n",
            "Requirement already satisfied: rasterio in /usr/local/lib/python3.10/dist-packages (from earthpy) (1.3.9)\n",
            "Requirement already satisfied: scikit-image in /usr/local/lib/python3.10/dist-packages (from earthpy) (0.19.3)\n",
            "Requirement already satisfied: requests in /usr/local/lib/python3.10/dist-packages (from earthpy) (2.31.0)\n",
            "Requirement already satisfied: contourpy>=1.0.1 in /usr/local/lib/python3.10/dist-packages (from matplotlib>=2.0.0->earthpy) (1.2.0)\n",
            "Requirement already satisfied: cycler>=0.10 in /usr/local/lib/python3.10/dist-packages (from matplotlib>=2.0.0->earthpy) (0.12.1)\n",
            "Requirement already satisfied: fonttools>=4.22.0 in /usr/local/lib/python3.10/dist-packages (from matplotlib>=2.0.0->earthpy) (4.50.0)\n",
            "Requirement already satisfied: kiwisolver>=1.0.1 in /usr/local/lib/python3.10/dist-packages (from matplotlib>=2.0.0->earthpy) (1.4.5)\n",
            "Requirement already satisfied: packaging>=20.0 in /usr/local/lib/python3.10/dist-packages (from matplotlib>=2.0.0->earthpy) (24.0)\n",
            "Requirement already satisfied: pillow>=6.2.0 in /usr/local/lib/python3.10/dist-packages (from matplotlib>=2.0.0->earthpy) (9.4.0)\n",
            "Requirement already satisfied: pyparsing>=2.3.1 in /usr/local/lib/python3.10/dist-packages (from matplotlib>=2.0.0->earthpy) (3.1.2)\n",
            "Requirement already satisfied: python-dateutil>=2.7 in /usr/local/lib/python3.10/dist-packages (from matplotlib>=2.0.0->earthpy) (2.8.2)\n",
            "Requirement already satisfied: fiona>=1.8.19 in /usr/local/lib/python3.10/dist-packages (from geopandas->earthpy) (1.9.6)\n",
            "Requirement already satisfied: pandas>=1.1.0 in /usr/local/lib/python3.10/dist-packages (from geopandas->earthpy) (1.5.3)\n",
            "Requirement already satisfied: pyproj>=3.0.1 in /usr/local/lib/python3.10/dist-packages (from geopandas->earthpy) (3.6.1)\n",
            "Requirement already satisfied: shapely>=1.7.1 in /usr/local/lib/python3.10/dist-packages (from geopandas->earthpy) (2.0.3)\n",
            "Requirement already satisfied: affine in /usr/local/lib/python3.10/dist-packages (from rasterio->earthpy) (2.4.0)\n",
            "Requirement already satisfied: attrs in /usr/local/lib/python3.10/dist-packages (from rasterio->earthpy) (23.2.0)\n",
            "Requirement already satisfied: certifi in /usr/local/lib/python3.10/dist-packages (from rasterio->earthpy) (2024.2.2)\n",
            "Requirement already satisfied: click>=4.0 in /usr/local/lib/python3.10/dist-packages (from rasterio->earthpy) (8.1.7)\n",
            "Requirement already satisfied: cligj>=0.5 in /usr/local/lib/python3.10/dist-packages (from rasterio->earthpy) (0.7.2)\n",
            "Requirement already satisfied: snuggs>=1.4.1 in /usr/local/lib/python3.10/dist-packages (from rasterio->earthpy) (1.4.7)\n",
            "Requirement already satisfied: click-plugins in /usr/local/lib/python3.10/dist-packages (from rasterio->earthpy) (1.1.1)\n",
            "Requirement already satisfied: setuptools in /usr/local/lib/python3.10/dist-packages (from rasterio->earthpy) (67.7.2)\n",
            "Requirement already satisfied: charset-normalizer<4,>=2 in /usr/local/lib/python3.10/dist-packages (from requests->earthpy) (3.3.2)\n",
            "Requirement already satisfied: idna<4,>=2.5 in /usr/local/lib/python3.10/dist-packages (from requests->earthpy) (3.6)\n",
            "Requirement already satisfied: urllib3<3,>=1.21.1 in /usr/local/lib/python3.10/dist-packages (from requests->earthpy) (2.0.7)\n",
            "Requirement already satisfied: scipy>=1.4.1 in /usr/local/lib/python3.10/dist-packages (from scikit-image->earthpy) (1.11.4)\n",
            "Requirement already satisfied: networkx>=2.2 in /usr/local/lib/python3.10/dist-packages (from scikit-image->earthpy) (3.2.1)\n",
            "Requirement already satisfied: imageio>=2.4.1 in /usr/local/lib/python3.10/dist-packages (from scikit-image->earthpy) (2.31.6)\n",
            "Requirement already satisfied: tifffile>=2019.7.26 in /usr/local/lib/python3.10/dist-packages (from scikit-image->earthpy) (2024.2.12)\n",
            "Requirement already satisfied: PyWavelets>=1.1.1 in /usr/local/lib/python3.10/dist-packages (from scikit-image->earthpy) (1.5.0)\n",
            "Requirement already satisfied: six in /usr/local/lib/python3.10/dist-packages (from fiona>=1.8.19->geopandas->earthpy) (1.16.0)\n",
            "Requirement already satisfied: pytz>=2020.1 in /usr/local/lib/python3.10/dist-packages (from pandas>=1.1.0->geopandas->earthpy) (2023.4)\n",
            "Installing collected packages: earthpy\n",
            "Successfully installed earthpy-0.9.4\n"
          ]
        }
      ]
    },
    {
      "cell_type": "code",
      "source": [
        "import rasterio as rio\n",
        "import rasterio.plot as rioplot\n",
        "import pyproj"
      ],
      "metadata": {
        "id": "Ee5iLTWu0TrA"
      },
      "execution_count": null,
      "outputs": []
    },
    {
      "cell_type": "code",
      "source": [
        "import earthpy.spatial as es\n",
        "import earthpy.plot as ep\n",
        "import earthpy as et"
      ],
      "metadata": {
        "id": "itQ1ADY4tmFo"
      },
      "execution_count": null,
      "outputs": []
    },
    {
      "cell_type": "code",
      "source": [
        "import os\n",
        "import numpy as np\n",
        "import matplotlib\n",
        "import matplotlib.pyplot as plt"
      ],
      "metadata": {
        "id": "ScmCMFIY6RVm"
      },
      "execution_count": null,
      "outputs": []
    },
    {
      "cell_type": "markdown",
      "source": [
        "## Directory setting"
      ],
      "metadata": {
        "id": "t3lgeKkHt6Bt"
      }
    },
    {
      "cell_type": "code",
      "source": [
        "#from google.colab import drive\n",
        "#drive.mount('/content/drive')"
      ],
      "metadata": {
        "id": "DYdHRN7PtyWC"
      },
      "execution_count": null,
      "outputs": []
    },
    {
      "cell_type": "code",
      "source": [
        "#os.chdir(\"drive/MyDrive/05_Classroom/01_GeoKomputasiKostumisasi_2022Genap\")"
      ],
      "metadata": {
        "id": "CGax-Lc6uG0z"
      },
      "execution_count": null,
      "outputs": []
    },
    {
      "cell_type": "code",
      "source": [
        "#os.getcwd()"
      ],
      "metadata": {
        "id": "1fBkMbe_uTEG"
      },
      "execution_count": null,
      "outputs": []
    },
    {
      "cell_type": "markdown",
      "source": [
        "## Satellite archives on the Cloud\n",
        "\n",
        "Data raster akan menggunakan data Landsat berbasis cloud dari [Landsat AWS](https://docs.opendata.aws/landsat-pds/readme.html) dan [cloud google](https://cloud.google.com/storage/docs/public-datasets/landsat).\n",
        "\n",
        "Cara menuliskan link data landsat pada cloud Amazon AWS atau google API adalah sebagai berikut:\n",
        "\n",
        "\n",
        "**https://storage.googleapis.com/gcp-public-data-landsat/cx/LX/PPP/RRR/LXSS_LLLL_PPPRRR_YYYYMMDD_yyymmdd_CC_TX/**\n",
        "\n",
        "**http://landsat-pds.s3.amazonaws.com/cx/LX/PPP/RRR/LXSS_LLLL_PPPRRR_YYYYMMDD_yyymmdd_CC_TX/**\n",
        "\n",
        "\n",
        "\n",
        "Foldering: The **cx** refers to Collection (c1, c2), the **LX** refers to Landsat sensor (L9, L8, L7) , **PPP** refers to the scene’s path, **RRR** refers to the scene’s row. Kemudian detail penamaan file sebagai berikut:  \n",
        "\n",
        "* L = Landsat\n",
        "* X = Sensor\n",
        "* SS = Satellite\n",
        "* PPP = WRS path\n",
        "* RRR = WRS row\n",
        "* YYYYMMDD = Acquisition date\n",
        "* yyyymmdd = Processing date\n",
        "* CC = Collection number\n",
        "* TX = Collection category\n",
        "\n",
        "untuk data jakarta dengan **path : 122** dan **row : 064**. Bisa di check dl kondisi tampilan data pada [EarthExplorer](https://earthexplorer.usgs.gov/)\n",
        "\n",
        "khusus untuk akses melalui aws diperlukan beberapa persyararan khusus\n",
        "1. An AWS account.\n",
        "2. AWS CLI installed and configured on your machine.\n",
        "3. Python environment set up.\n",
        "4. Installation of Boto3 and Rasterio libraries. Rasterio is useful for reading and writing raster datasets (like the ones provided by Landsat).\n",
        "\n",
        "\n"
      ],
      "metadata": {
        "id": "KCxFazzs2E7b"
      }
    },
    {
      "cell_type": "code",
      "source": [
        "print('Landsat on Google:')\n",
        "#filepath = 'https://storage.googleapis.com/gcp-public-data-landsat/LC08/01/122/064/LC08_L1TP_122064_20210916_20210924_01_T1/LC08_L1TP_122064_20210916_20210924_01_T1_B4.TIF'\n",
        "with rio.open(filepath) as src:\n",
        "    print(src.profile)"
      ],
      "metadata": {
        "id": "0pbDr0am2q39"
      },
      "execution_count": null,
      "outputs": []
    },
    {
      "cell_type": "code",
      "source": [
        "# membuka file dan membaca file yang kemudian disimpan dalam nama variable band4\n",
        "\n",
        "with rio.open(filepath) as src:\n",
        "    print(src.profile)\n",
        "    band4 = src.read()"
      ],
      "metadata": {
        "id": "TfLwYR43soY8"
      },
      "execution_count": null,
      "outputs": []
    },
    {
      "cell_type": "code",
      "source": [
        "ep.plot_bands(band4)"
      ],
      "metadata": {
        "id": "dD0Jcmvps2xn"
      },
      "execution_count": null,
      "outputs": []
    },
    {
      "cell_type": "code",
      "source": [
        "type(band4)"
      ],
      "metadata": {
        "id": "3A3UYZel7owr",
        "colab": {
          "base_uri": "https://localhost:8080/"
        },
        "outputId": "83581bb4-8b7f-4f8f-da4a-399ec3f46180"
      },
      "execution_count": null,
      "outputs": [
        {
          "output_type": "execute_result",
          "data": {
            "text/plain": [
              "numpy.ndarray"
            ]
          },
          "metadata": {},
          "execution_count": 16
        }
      ]
    },
    {
      "cell_type": "markdown",
      "source": [
        "## Satellite Data as tif file"
      ],
      "metadata": {
        "id": "X_Gx6ZL069OR"
      }
    },
    {
      "cell_type": "code",
      "source": [
        "worldview2 = \"03_Raster/Data/10JAN25024728-M2AS-052647590010_01_P001.TIF\""
      ],
      "metadata": {
        "id": "5GgaQj0XFmfS"
      },
      "execution_count": null,
      "outputs": []
    },
    {
      "cell_type": "code",
      "source": [
        "img = rio.open(worldview2)\n",
        "rsWv = img.read()"
      ],
      "metadata": {
        "id": "iWsiskt7uY0U"
      },
      "execution_count": null,
      "outputs": []
    },
    {
      "cell_type": "code",
      "source": [
        "with rio.open(worldview2) as img:\n",
        "  rsWv2 = img.read()\n",
        "  print(img.profile)"
      ],
      "metadata": {
        "id": "LMQkxc7QuaQ0"
      },
      "execution_count": null,
      "outputs": []
    },
    {
      "cell_type": "code",
      "source": [
        "print('file rsWv2 jenis data: ', type(rsWv2))\n",
        "print('file img jenis data: ', type(img))"
      ],
      "metadata": {
        "id": "_82iTUWWv9vO"
      },
      "execution_count": null,
      "outputs": []
    },
    {
      "cell_type": "code",
      "source": [
        "#prokjeksi\n",
        "img.crs"
      ],
      "metadata": {
        "id": "0y1-qhfNHZih"
      },
      "execution_count": null,
      "outputs": []
    },
    {
      "cell_type": "code",
      "source": [
        "# dimensi citra\n",
        "print('Lebar:', img.height)\n",
        "print('Panjang:', img.width)"
      ],
      "metadata": {
        "id": "ky3zzCnVH4hD"
      },
      "execution_count": null,
      "outputs": []
    },
    {
      "cell_type": "code",
      "source": [
        "#jumlah band\n",
        "img.count"
      ],
      "metadata": {
        "id": "GBuZjve6IQoq"
      },
      "execution_count": null,
      "outputs": []
    },
    {
      "cell_type": "code",
      "source": [
        "#metadata\n",
        "img.meta"
      ],
      "metadata": {
        "id": "oNHMx0AvIY_e"
      },
      "execution_count": null,
      "outputs": []
    },
    {
      "cell_type": "code",
      "source": [
        "ep.plot_bands(rsWv2)"
      ],
      "metadata": {
        "id": "e7vMT7ttIc8H"
      },
      "execution_count": null,
      "outputs": []
    }
  ]
}